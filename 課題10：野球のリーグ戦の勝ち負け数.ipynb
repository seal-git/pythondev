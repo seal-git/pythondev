{
 "cells": [
  {
   "cell_type": "code",
   "execution_count": 4,
   "id": "150128b1",
   "metadata": {},
   "outputs": [],
   "source": [
    "class Baseball_Team():\n",
    "  def __init__(self, name, win, lose, draw):\n",
    "    self.name = name\n",
    "    self.win = win\n",
    "    self.lose = lose\n",
    "    self.draw = draw\n",
    "  \n",
    "  def calc_win_rate(self) -> float:\n",
    "    return self.win / (self.win + self.lose)\n",
    "  \n",
    "  def show_team_result(self) -> None:\n",
    "    print(f\"{self.name} {self.win} {self.lose} {self.draw} {self.calc_win_rate():.3f}\")\n",
    "\n",
    "\n"
   ]
  },
  {
   "cell_type": "code",
   "execution_count": 11,
   "id": "051ff11b",
   "metadata": {},
   "outputs": [
    {
     "name": "stdout",
     "output_type": "stream",
     "text": [
      "Archers 77 64 2 0.546\n",
      "      team       win      lose      draw      rate\n",
      "   Archers        77        64         2     0.546\n",
      "\n",
      "   Meteors        71        69         3     0.507\n",
      "\n",
      "  Cheetahs        69        68         6     0.504\n",
      "\n",
      "    Sharks        70        70         3     0.500\n",
      "\n",
      "   Pythons        68        73         2     0.482\n",
      "\n",
      "      Owls        59        82         2     0.418\n"
     ]
    }
   ],
   "source": [
    "\"\"\"\n",
    "以下のチームリストを作成\n",
    "Archers\t77\t64\t2\n",
    "Meteors\t71\t69\t3\n",
    "Cheetahs\t69\t68\t6\n",
    "Sharks\t70\t70\t3\n",
    "Pythons\t68\t73\t2\n",
    "Owls\t59\t82\t2\n",
    "\"\"\"\n",
    "\n",
    "team = Baseball_Team(\"Archers\", 77, 64, 2)\n",
    "team.show_team_result()\n",
    "\n",
    "temas :list[Baseball_Team] = [\n",
    "  Baseball_Team(\"Archers\", 77, 64, 2),\n",
    "  Baseball_Team(\"Meteors\", 71, 69, 3),\n",
    "  Baseball_Team(\"Cheetahs\", 69, 68, 6),\n",
    "  Baseball_Team(\"Sharks\", 70, 70, 3),\n",
    "  Baseball_Team(\"Pythons\", 68, 73, 2),\n",
    "  Baseball_Team(\"Owls\", 59, 82, 2)\n",
    "]\n",
    "\n",
    "head = [\"team\", \"win\", \"lose\", \"draw\", \"rate\"]\n",
    "for h in head:\n",
    "  print(f\"{h:>10}\", end=\"\")\n",
    "\n",
    "for team in temas:\n",
    "  print(f\"\\n{team.name:>10}{team.win:>10}{team.lose:>10}{team.draw:>10}{team.calc_win_rate():>10.3f}\")"
   ]
  },
  {
   "cell_type": "code",
   "execution_count": null,
   "id": "ba42eab5",
   "metadata": {},
   "outputs": [],
   "source": []
  }
 ],
 "metadata": {
  "kernelspec": {
   "display_name": ".venv (3.12.7)",
   "language": "python",
   "name": "python3"
  },
  "language_info": {
   "codemirror_mode": {
    "name": "ipython",
    "version": 3
   },
   "file_extension": ".py",
   "mimetype": "text/x-python",
   "name": "python",
   "nbconvert_exporter": "python",
   "pygments_lexer": "ipython3",
   "version": "3.12.7"
  }
 },
 "nbformat": 4,
 "nbformat_minor": 5
}
