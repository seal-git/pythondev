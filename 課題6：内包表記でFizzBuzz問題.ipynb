{
 "cells": [
  {
   "cell_type": "code",
   "execution_count": null,
   "id": "280fe36d",
   "metadata": {},
   "outputs": [
    {
     "name": "stdout",
     "output_type": "stream",
     "text": [
      "['1', '2', 'Fizz', '4', 'Bazz', 'Fizz', '7', '8', 'Fizz', 'Bazz', '11', 'Fizz', '13', '14', 'FizzBazz', '16', '17', 'Fizz', '19', 'Bazz', 'Fizz', '22', '23', 'Fizz', 'Bazz', '26', 'Fizz', '28', '29', 'FizzBazz', '31', '32', 'Fizz', '34', 'Bazz', 'Fizz', '37', '38', 'Fizz', 'Bazz', '41', 'Fizz', '43', '44', 'FizzBazz', '46', '47', 'Fizz', '49', 'Bazz', 'Fizz', '52', '53', 'Fizz', 'Bazz', '56', 'Fizz', '58', '59', 'FizzBazz', '61', '62', 'Fizz', '64', 'Bazz', 'Fizz', '67', '68', 'Fizz', 'Bazz', '71', 'Fizz', '73', '74', 'FizzBazz', '76', '77', 'Fizz', '79', 'Bazz', 'Fizz', '82', '83', 'Fizz', 'Bazz', '86', 'Fizz', '88', '89', 'FizzBazz', '91', '92', 'Fizz', '94', 'Bazz', 'Fizz', '97', '98', 'Fizz']\n"
     ]
    }
   ],
   "source": [
    "def FizzBazz(n: int) -> str:\n",
    "  if n % 3 == 0 and n % 5 == 0:\n",
    "    return \"FizzBazz\"\n",
    "  elif n % 3 == 0:\n",
    "    return \"Fizz\"\n",
    "  elif n % 5 == 0:\n",
    "    return \"Bazz\"\n",
    "  else:\n",
    "    return str(n)\n",
    "\n",
    "output = [FizzBazz(i) for i in range(1, 100)]\n",
    "print(output)"
   ]
  },
  {
   "cell_type": "code",
   "execution_count": null,
   "id": "5bf83df1",
   "metadata": {},
   "outputs": [],
   "source": []
  }
 ],
 "metadata": {
  "kernelspec": {
   "display_name": ".venv (3.12.7)",
   "language": "python",
   "name": "python3"
  },
  "language_info": {
   "codemirror_mode": {
    "name": "ipython",
    "version": 3
   },
   "file_extension": ".py",
   "mimetype": "text/x-python",
   "name": "python",
   "nbconvert_exporter": "python",
   "pygments_lexer": "ipython3",
   "version": "3.12.7"
  }
 },
 "nbformat": 4,
 "nbformat_minor": 5
}
