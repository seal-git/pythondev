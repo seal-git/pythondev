{
 "cells": [
  {
   "cell_type": "markdown",
   "id": "9ebdbc36",
   "metadata": {},
   "source": [
    "# Lesson1課題\n",
    "## 概要\n",
    "「キーボードから名前と年齢の入力を受け付け、それを画面に表示するプログラム」を作成してください。\n",
    "\n",
    "課題1：自己紹介するプログラム.ipynb というノートブックを作成し、以下の仕様を満たすプログラムを記述してください。\n",
    "\n",
    "## 仕様\n",
    "以下の3つの命令を連続して行なうプログラムを作成し、実行してください。\n",
    "\n",
    "命令1\n",
    "画面に「名前を入力してください：」と表示したうえで、キーボードから名前を受けつけ、変数 name に格納します。\n",
    "\n",
    "命令2\n",
    "画面に「現在の年齢を入力してください：」と表示したうえで、キーボードから現在の年齢を受け付けて、変数 age に格納します。\n",
    "\n",
    "命令3\n",
    "画面に「私の名前は ○○ です。来年で △△ 歳になります。」と表示します。来年の年齢を表示してください！\n",
    "\n",
    "実行結果の例:\n",
    "名前を入力してください: taro kirameki\n",
    "現在の年齢を入力してください: 25\n",
    "私の名前は taro kirameki です。来年で 26 歳になります。\n",
    "\n",
    "## 課題の提出\n",
    "ソースコードが完成したら、コミットとPUSHを行ないます。手順を再掲します。\n",
    "\n",
    "「ソース管理」で「変更」の「＋」（すべての変更をステージ）をクリック\n",
    "コミットメッセージに「自己紹介をするプログラムの課題完了」と記述\n",
    "「コミット」をクリック\n",
    "「変更の同期」をクリック\n",
    "次に、事前準備のレッスンに記載した方法で「課題の提出」を実施してください。\n",
    "\n",
    "「課題の提出」をしていただければ、メンターがGitHub上のソースコードを確認します。"
   ]
  },
  {
   "cell_type": "code",
   "execution_count": null,
   "id": "639dd6ad",
   "metadata": {},
   "outputs": [
    {
     "name": "stdout",
     "output_type": "stream",
     "text": [
      "年齢は数字で入力してください。\n"
     ]
    },
    {
     "ename": "SystemExit",
     "evalue": "1",
     "output_type": "error",
     "traceback": [
      "An exception has occurred, use %tb to see the full traceback.\n",
      "\u001b[31mSystemExit\u001b[39m\u001b[31m:\u001b[39m 1\n"
     ]
    },
    {
     "name": "stderr",
     "output_type": "stream",
     "text": [
      "/Users/yukyosh/Downloads/pythondev/.venv/lib/python3.12/site-packages/IPython/core/interactiveshell.py:3707: UserWarning: To exit: use 'exit', 'quit', or Ctrl-D.\n",
      "  warn(\"To exit: use 'exit', 'quit', or Ctrl-D.\", stacklevel=1)\n"
     ]
    }
   ],
   "source": [
    "name: str = input(\"名前を入力してください:\")\n",
    "age_str: str = input(\"現在の年齢を入力してください:\")\n",
    "\n",
    "# 仕様外だが一応エラー処理も書いておく\n",
    "import sys\n",
    "if not age_str.isdigit():\n",
    "    print(\"年齢は数字で入力してください。\")\n",
    "    sys.exit(1)\n",
    "\n",
    "print(f\"私の名前は {name} です。来年で {int(age_str) + 1} 歳になります。\")\n"
   ]
  },
  {
   "cell_type": "code",
   "execution_count": null,
   "id": "54188e6d",
   "metadata": {},
   "outputs": [],
   "source": []
  }
 ],
 "metadata": {
  "kernelspec": {
   "display_name": ".venv (3.12.7)",
   "language": "python",
   "name": "python3"
  },
  "language_info": {
   "codemirror_mode": {
    "name": "ipython",
    "version": 3
   },
   "file_extension": ".py",
   "mimetype": "text/x-python",
   "name": "python",
   "nbconvert_exporter": "python",
   "pygments_lexer": "ipython3",
   "version": "3.12.7"
  }
 },
 "nbformat": 4,
 "nbformat_minor": 5
}
