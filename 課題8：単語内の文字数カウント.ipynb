{
 "cells": [
  {
   "cell_type": "code",
   "execution_count": 7,
   "id": "6e5eebb2",
   "metadata": {},
   "outputs": [
    {
     "name": "stdout",
     "output_type": "stream",
     "text": [
      "aaa\n",
      "aaa\n",
      "aが6個ありました\n"
     ]
    }
   ],
   "source": [
    "word_list = list()\n",
    "\n",
    "alphabet_dict = {'a':0, 'b':0, 'c':0, 'd':0, 'e':0, 'f':0, 'g':0, 'h':0, 'i':0, 'j':0, 'k':0, 'l':0, 'm':0, 'n':0, 'o':0, 'p':0, 'q':0, 'r':0, 's':0, 't':0, 'u':0, 'v':0, 'w':0, 'x':0, 'y':0, 'z':0}\n",
    "\n",
    "while True:\n",
    "  word: str = input(\"単語を入力してください\")\n",
    "  if len(word) == 0:\n",
    "    break\n",
    "\n",
    "  for letter in word:\n",
    "    if letter in alphabet_dict:\n",
    "      alphabet_dict[letter] += 1\n",
    "\n",
    "  word_list.append(word)\n",
    "\n",
    "for word in word_list:\n",
    "  print(word)\n",
    "\n",
    "for key, value in alphabet_dict.items():\n",
    "  if value > 0:\n",
    "    print(f\"{key}が{value}個ありました\")\n"
   ]
  },
  {
   "cell_type": "code",
   "execution_count": null,
   "id": "0a85b227",
   "metadata": {},
   "outputs": [],
   "source": []
  }
 ],
 "metadata": {
  "kernelspec": {
   "display_name": ".venv (3.12.7)",
   "language": "python",
   "name": "python3"
  },
  "language_info": {
   "codemirror_mode": {
    "name": "ipython",
    "version": 3
   },
   "file_extension": ".py",
   "mimetype": "text/x-python",
   "name": "python",
   "nbconvert_exporter": "python",
   "pygments_lexer": "ipython3",
   "version": "3.12.7"
  }
 },
 "nbformat": 4,
 "nbformat_minor": 5
}
