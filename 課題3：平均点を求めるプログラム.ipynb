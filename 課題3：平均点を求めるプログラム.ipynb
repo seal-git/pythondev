{
 "cells": [
  {
   "cell_type": "code",
   "execution_count": 4,
   "id": "e2f76a07",
   "metadata": {},
   "outputs": [
    {
     "name": "stdout",
     "output_type": "stream",
     "text": [
      "3人のテストの平均点は8.7点です\n"
     ]
    }
   ],
   "source": [
    "people_count: int = 0\n",
    "total_score: int = 0\n",
    "\n",
    "while True:\n",
    "  score: str = input(\"点数を入力してください：\")\n",
    "\n",
    "  if score == \"-1\":\n",
    "    break\n",
    "\n",
    "  # 仕様にはないが入力が数字でない場合の処理も入れる\n",
    "  if not score.isdigit():\n",
    "    print(\"点数は整数で入力してください\")\n",
    "    continue\n",
    "\n",
    "  total_score += int(score)\n",
    "  people_count += 1\n",
    "\n",
    "average_score = total_score / people_count if people_count > 0 else 0\n",
    "print(f\"{people_count}人のテストの平均点は{round(average_score, 1)}点です\")"
   ]
  }
 ],
 "metadata": {
  "kernelspec": {
   "display_name": ".venv (3.12.7)",
   "language": "python",
   "name": "python3"
  },
  "language_info": {
   "codemirror_mode": {
    "name": "ipython",
    "version": 3
   },
   "file_extension": ".py",
   "mimetype": "text/x-python",
   "name": "python",
   "nbconvert_exporter": "python",
   "pygments_lexer": "ipython3",
   "version": "3.12.7"
  }
 },
 "nbformat": 4,
 "nbformat_minor": 5
}
